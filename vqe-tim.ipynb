{
 "cells": [
  {
   "cell_type": "code",
   "execution_count": 1,
   "id": "8c1f2278-3bca-42e8-9a63-d4fd074bbabb",
   "metadata": {},
   "outputs": [],
   "source": [
    "import pennylane as qml\n",
    "from pennylane import numpy as np\n",
    "import matplotlib.pyplot as plt\n",
    "from tqdm import tqdm"
   ]
  },
  {
   "cell_type": "markdown",
   "id": "3240beef-c009-4607-b86e-e7e91ceb0ee7",
   "metadata": {},
   "source": [
    "# Transverse Ising Chain using VQE\n",
    "\n",
    "The hamiltonian is given by $$ H = -\\sum_\n",
    "{\\langle ij\\rangle} J_{ij}Z_iZ_j - h\\sum_{j} X_j,$$\n",
    "the sum over $\\langle ij\\rangle$ denotes the interaction between all nearest neighbors. Periodic conditions will be assumed in this notebook."
   ]
  },
  {
   "cell_type": "code",
   "execution_count": 2,
   "id": "f5e10f62-6433-4e40-947c-bbf4961612e0",
   "metadata": {},
   "outputs": [
    {
     "name": "stdout",
     "output_type": "stream",
     "text": [
      "  (-1) [X0]\n",
      "+ (-1) [X1]\n",
      "+ (-1) [X2]\n",
      "+ (-1) [X3]\n",
      "+ (-1) [X4]\n",
      "+ (-1) [Z0 Z1]\n",
      "+ (-1) [Z1 Z2]\n",
      "+ (-1) [Z2 Z3]\n",
      "+ (-1) [Z3 Z4]\n",
      "+ (-1) [Z4 Z0]\n"
     ]
    }
   ],
   "source": [
    "num_spins = 5\n",
    "\n",
    "J = np.array([1 for n in range(num_spins)])\n",
    "h = 1 # External magnetic field\n",
    "\n",
    "obs = [qml.PauliZ(i%num_spins) @ qml.PauliZ((i+1)%num_spins) for i in range(num_spins)]\n",
    "\n",
    "H_int = qml.Hamiltonian(-1*J, obs) # Interaction hamiltonian\n",
    "H_ext = qml.Hamiltonian([-h]*num_spins, [qml.PauliX(i) for i in range(num_spins)])# Transverse field\n",
    "H = H_int + H_ext\n",
    "\n",
    "print(H)"
   ]
  },
  {
   "cell_type": "code",
   "execution_count": 3,
   "id": "18ed3e01-563d-422a-9919-139933ada299",
   "metadata": {},
   "outputs": [],
   "source": [
    "def get_hamiltonian(J, h, num_spins):\n",
    "    \n",
    "    # Asume periodic boundary conditions\n",
    "    obs = [qml.PauliZ(i%num_spins) @ qml.PauliZ((i+1)%num_spins) for i in range(num_spins)]\n",
    "\n",
    "    H_int = qml.Hamiltonian(-1*J, obs) # Interaction hamiltonian\n",
    "    H_ext = qml.Hamiltonian([-h]*num_spins, [qml.PauliX(i) for i in range(num_spins)])# Transverse field\n",
    "    H = H_int + H_ext\n",
    "\n",
    "    return H"
   ]
  },
  {
   "cell_type": "code",
   "execution_count": 4,
   "id": "a40c9eae-f62d-4525-9fa5-972c5020376c",
   "metadata": {},
   "outputs": [],
   "source": [
    "def one_layer(params, num_spins):\n",
    "    qml.templates.BasicEntanglerLayers(params[0], range(num_spins), qml.RX)\n",
    "    qml.templates.BasicEntanglerLayers(params[1], range(num_spins), qml.RY)\n",
    "    qml.templates.BasicEntanglerLayers(params[2], range(num_spins), qml.RZ)"
   ]
  },
  {
   "cell_type": "code",
   "execution_count": 5,
   "id": "0e71675f-a503-41ee-9354-73ef1e4bd121",
   "metadata": {},
   "outputs": [],
   "source": [
    "def VQE(H, num_spins, dev, opt, conv_tol, max_iterations):\n",
    "    \n",
    "    num_layers = 5\n",
    "    \n",
    "    def circuit(params, num_layers):\n",
    "        for i in range(num_layers):\n",
    "            one_layer(params[i], num_spins)\n",
    "    \n",
    "    @qml.qnode(dev)\n",
    "    def cost_fn(params):\n",
    "        circuit(params, num_layers)\n",
    "        return qml.expval(H)\n",
    "        \n",
    "    shape = (num_layers, 3, 1, num_spins)\n",
    "    params = np.random.random(shape)\n",
    "        \n",
    "    energy_opt = [cost_fn(params)]\n",
    "    params_opt = [params]\n",
    "    \n",
    "    for n in range(max_iterations):\n",
    "        params, prev_energy = opt.step_and_cost(cost_fn, params)\n",
    "        \n",
    "        energy_opt.append(cost_fn(params))\n",
    "        params_opt.append(params)\n",
    "        \n",
    "        conv = np.abs(energy_opt[-1] - prev_energy)\n",
    "        if conv < conv_tol:\n",
    "            break\n",
    "            \n",
    "    E0 = energy_opt[-1] / num_spins # Ground state energy per site\n",
    "    \n",
    "    # Calculate the transverse magnetization m_x = <sum_j X_j>\n",
    "    @qml.qnode(dev)\n",
    "    def magnetization(params):\n",
    "        circuit(params, num_layers)\n",
    "        return [qml.expval(qml.PauliX(i)) for i in range(num_spins)]\n",
    "\n",
    "    M0 = np.sum(magnetization(params_opt[-1])) / num_spins\n",
    "    \n",
    "    return E0, M0\n",
    "\n",
    "def exact(H):\n",
    "    \n",
    "    H_matrix = qml.matrix(H)\n",
    "    w, v = np.linalg.eigh(H_matrix)\n",
    "\n",
    "    E0 = w[0] / num_spins\n",
    "    \n",
    "    # Calculate the transverse magnetization\n",
    "    M_op = 0\n",
    "    for i in range(num_spins):\n",
    "        M_op += qml.PauliX(wires=i)\n",
    "    M_op = qml.matrix(M_op)\n",
    "    \n",
    "    # Compute the expectation value\n",
    "    M0 = (v[:,0].conjugate().T @ M_op @ v[:,0]) / num_spins\n",
    "    \n",
    "    return E0, np.real(M0)"
   ]
  },
  {
   "cell_type": "code",
   "execution_count": 6,
   "id": "f1bef6b4-8b44-4398-b921-24569337ad4c",
   "metadata": {},
   "outputs": [
    {
     "name": "stderr",
     "output_type": "stream",
     "text": [
      "100%|██████████| 20/20 [06:45<00:00, 20.28s/it]\n"
     ]
    }
   ],
   "source": [
    "np.random.seed(2022)\n",
    "\n",
    "num_spins = 5\n",
    "\n",
    "dev = qml.device(\"default.qubit\", wires=num_spins)\n",
    "\n",
    "max_iterations = 1000\n",
    "conv_tol = 1e-03\n",
    "\n",
    "opt = qml.AdamOptimizer()\n",
    "\n",
    "J = np.array([1 for n in range(num_spins)])\n",
    "num_h = 20\n",
    "h = np.linspace(0, 4, num_h) # Vary the external magnetic field\n",
    "\n",
    "E0_VQE = np.zeros(num_h)\n",
    "M0_VQE = np.zeros(num_h)\n",
    "\n",
    "E0_exact = np.zeros(num_h)\n",
    "M0_exact = np.zeros(num_h)\n",
    "\n",
    "for i in tqdm(range(num_h)):\n",
    "    H = get_hamiltonian(J, h[i], num_spins)\n",
    "    E0_VQE[i], M0_VQE[i] = VQE(H, num_spins, dev, opt, conv_tol, max_iterations)\n",
    "    E0_exact[i], M0_exact[i] = exact(H)"
   ]
  },
  {
   "cell_type": "code",
   "execution_count": 7,
   "id": "4faf6d49-ce5a-45aa-a74a-de73d3b53a06",
   "metadata": {
    "tags": []
   },
   "outputs": [
    {
     "data": {
      "text/plain": [
       "<matplotlib.legend.Legend at 0x7f1d10749b20>"
      ]
     },
     "execution_count": 7,
     "metadata": {},
     "output_type": "execute_result"
    },
    {
     "data": {
      "image/png": "[encoded data removed]",
      "text/plain": [
       "<Figure size 640x480 with 1 Axes>"
      ]
     },
     "metadata": {},
     "output_type": "display_data"
    }
   ],
   "source": [
    "# Energy per site vs. h\n",
    "plt.plot(h, E0_exact,'bo-', label='Exact')\n",
    "plt.plot(h, E0_VQE,'ks',label='VQE')\n",
    "\n",
    "plt.xlabel(r'$h$')\n",
    "plt.ylabel(r'$E/N$')\n",
    "plt.legend()"
   ]
  },
  {
   "cell_type": "code",
   "execution_count": 8,
   "id": "ea05a91c-f1ea-4576-bee7-c91365f3cb1b",
   "metadata": {},
   "outputs": [
    {
     "data": {
      "text/plain": [
       "<matplotlib.legend.Legend at 0x7f1d11304fa0>"
      ]
     },
     "execution_count": 8,
     "metadata": {},
     "output_type": "execute_result"
    },
    {
     "data": {
      "image/png": "[encoded data removed]",
      "text/plain": [
       "<Figure size 640x480 with 1 Axes>"
      ]
     },
     "metadata": {},
     "output_type": "display_data"
    }
   ],
   "source": [
    "# Plot transverse magnetization per site vs. h\n",
    "plt.plot(h, M0_exact,'bo-', label='Exact')\n",
    "plt.plot(h, M0_VQE,'ks',label='VQE')\n",
    "\n",
    "plt.xlabel(r'$h$')\n",
    "plt.ylabel(r'$M_x/N$')\n",
    "plt.legend()"
   ]
  }
 ],
 "metadata": {
  "kernelspec": {
   "display_name": "PennyLane",
   "language": "python",
   "name": "pennylane"
  },
  "language_info": {
   "codemirror_mode": {
    "name": "ipython",
    "version": 3
   },
   "file_extension": ".py",
   "mimetype": "text/x-python",
   "name": "python",
   "nbconvert_exporter": "python",
   "pygments_lexer": "ipython3",
   "version": "3.9.15"
  }
 },
 "nbformat": 4,
 "nbformat_minor": 5
}
