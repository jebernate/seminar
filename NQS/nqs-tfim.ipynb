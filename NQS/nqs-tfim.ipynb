{
 "cells": [
  {
   "cell_type": "code",
   "execution_count": 1,
   "id": "751cbc41",
   "metadata": {
    "_cell_guid": "b1076dfc-b9ad-4769-8c92-a6c4dae69d19",
    "_uuid": "8f2839f25d086af736a60e9eeb907d3b93b6e0e5",
    "execution": {
     "iopub.execute_input": "2023-01-28T05:50:35.013106Z",
     "iopub.status.busy": "2023-01-28T05:50:35.012487Z",
     "iopub.status.idle": "2023-01-28T05:50:57.734132Z",
     "shell.execute_reply": "2023-01-28T05:50:57.732917Z"
    },
    "papermill": {
     "duration": 22.732161,
     "end_time": "2023-01-28T05:50:57.737079",
     "exception": false,
     "start_time": "2023-01-28T05:50:35.004918",
     "status": "completed"
    },
    "tags": []
   },
   "outputs": [
    {
     "name": "stdout",
     "output_type": "stream",
     "text": [
      "\u001b[33mWARNING: Running pip as the 'root' user can result in broken permissions and conflicting behaviour with the system package manager. It is recommended to use a virtual environment instead: https://pip.pypa.io/warnings/venv\u001b[0m\u001b[33m\r\n",
      "\u001b[0m"
     ]
    }
   ],
   "source": [
    "try:\n",
    "    import netket as nk\n",
    "except ImportError:\n",
    "    !pip install --quiet --upgrade netket\n",
    "    import netket as nk\n",
    "\n",
    "from netket.operator.spin import sigmax, sigmaz\n",
    "\n",
    "import numpy as np\n",
    "import matplotlib\n",
    "import matplotlib.pyplot as plt\n",
    "from tqdm import tqdm\n",
    "\n",
    "from scipy.sparse.linalg import eigsh\n",
    "from numba import njit\n",
    "\n",
    "matplotlib.rcParams.update({'font.size': 12})\n",
    "np.random.seed(123)"
   ]
  },
  {
   "cell_type": "markdown",
   "id": "2903ba10",
   "metadata": {
    "papermill": {
     "duration": 0.004001,
     "end_time": "2023-01-28T05:50:57.746187",
     "exception": false,
     "start_time": "2023-01-28T05:50:57.742186",
     "status": "completed"
    },
    "tags": []
   },
   "source": [
    "# 0. Introduction"
   ]
  },
  {
   "cell_type": "markdown",
   "id": "1056ba6f",
   "metadata": {
    "papermill": {
     "duration": 0.003778,
     "end_time": "2023-01-28T05:50:57.754040",
     "exception": false,
     "start_time": "2023-01-28T05:50:57.750262",
     "status": "completed"
    },
    "tags": []
   },
   "source": [
    "The hamiltonian of the transverse field Ising model is given by $$ \\mathcal{H} = \\Gamma \\sum_j \\sigma_i^z \\sigma_{i+1}^z + V \\sum_j \\sigma^x,$$ where $\\sigma^k$ are the pauli operators. We assume periodic boundary conditions.  "
   ]
  },
  {
   "cell_type": "markdown",
   "id": "4798d73d",
   "metadata": {
    "papermill": {
     "duration": 0.003769,
     "end_time": "2023-01-28T05:50:57.761848",
     "exception": false,
     "start_time": "2023-01-28T05:50:57.758079",
     "status": "completed"
    },
    "tags": []
   },
   "source": [
    "# 1. Exact diagonalization <a class=\"anchor\" id=\"chapter1\"></a>\n"
   ]
  },
  {
   "cell_type": "code",
   "execution_count": 2,
   "id": "ac9c29b9",
   "metadata": {
    "execution": {
     "iopub.execute_input": "2023-01-28T05:50:57.772114Z",
     "iopub.status.busy": "2023-01-28T05:50:57.771410Z",
     "iopub.status.idle": "2023-01-28T05:51:06.065956Z",
     "shell.execute_reply": "2023-01-28T05:51:06.064782Z"
    },
    "papermill": {
     "duration": 8.303413,
     "end_time": "2023-01-28T05:51:06.069325",
     "exception": false,
     "start_time": "2023-01-28T05:50:57.765912",
     "status": "completed"
    },
    "tags": []
   },
   "outputs": [
    {
     "data": {
      "image/png": "[encoded data removed]",
      "text/plain": [
       "<Figure size 576x432 with 1 Axes>"
      ]
     },
     "metadata": {
      "needs_background": "light"
     },
     "output_type": "display_data"
    },
    {
     "name": "stdout",
     "output_type": "stream",
     "text": [
      "Energies_gs = [-10.63560441 -11.77550895 -13.73238057 -16.32729303 -19.16905047\n",
      " -22.12312939 -25.14039969 -28.19739083 -31.28113632 -34.38380987\n",
      " -37.50038571 -40.6274812 ]\n"
     ]
    }
   ],
   "source": [
    "n_spins = 10\n",
    "hi = nk.hilbert.Spin(s=1/2, N=n_spins)\n",
    "V=-1\n",
    "\n",
    "def get_hamiltonian(V, Gamma, hi, pbc=True):\n",
    "    if pbc:\n",
    "        final_index = hi.size\n",
    "    else:\n",
    "        final_index = hi.size - 1\n",
    "    H_int = sum([V*sigmaz(hi,i)*sigmaz(hi,(i+1)%hi.size) for i in range(final_index)])\n",
    "    H_ext = sum([Gamma*sigmax(hi,j) for j in range(hi.size)])\n",
    "    return H_int + H_ext\n",
    "    \n",
    "n_Gamma = 12\n",
    "Gamma_vals = np.linspace(-0.5,-4,n_Gamma)\n",
    "Energies_gs = np.zeros(n_Gamma)\n",
    "\n",
    "for i, Gamma in enumerate(Gamma_vals):\n",
    "    H = get_hamiltonian(V, Gamma, hi)\n",
    "    sp_h=H.to_sparse()\n",
    "    eig_vals, eig_vecs = eigsh(sp_h, k=1, which=\"SA\")\n",
    "    Energies_gs[i] = eig_vals[0]\n",
    "\n",
    "plt.figure(figsize=(8,6))\n",
    "plt.plot(Gamma_vals, Energies_gs, 'b*--')\n",
    "plt.xlabel(r'$\\Gamma/V$')\n",
    "plt.ylabel('Energy')\n",
    "plt.show()\n",
    "\n",
    "print('Energies_gs =', Energies_gs)"
   ]
  },
  {
   "cell_type": "markdown",
   "id": "32f68131",
   "metadata": {
    "papermill": {
     "duration": 0.004382,
     "end_time": "2023-01-28T05:51:06.078430",
     "exception": false,
     "start_time": "2023-01-28T05:51:06.074048",
     "status": "completed"
    },
    "tags": []
   },
   "source": [
    "# 2. Neural quantum states <a class=\"anchor\" id=\"chapter2\"></a>"
   ]
  },
  {
   "cell_type": "markdown",
   "id": "9ea771b4",
   "metadata": {
    "papermill": {
     "duration": 0.004408,
     "end_time": "2023-01-28T05:51:06.087680",
     "exception": false,
     "start_time": "2023-01-28T05:51:06.083272",
     "status": "completed"
    },
    "tags": []
   },
   "source": [
    "## 2.1 Numpy (and numba) <a class=\"anchor\" id=\"numpy\"></a>"
   ]
  },
  {
   "cell_type": "code",
   "execution_count": 3,
   "id": "03f40136",
   "metadata": {
    "execution": {
     "iopub.execute_input": "2023-01-28T05:51:06.099849Z",
     "iopub.status.busy": "2023-01-28T05:51:06.098676Z",
     "iopub.status.idle": "2023-01-28T05:51:07.330402Z",
     "shell.execute_reply": "2023-01-28T05:51:07.329035Z"
    },
    "papermill": {
     "duration": 1.240574,
     "end_time": "2023-01-28T05:51:07.332724",
     "exception": false,
     "start_time": "2023-01-28T05:51:06.092150",
     "status": "completed"
    },
    "tags": []
   },
   "outputs": [
    {
     "name": "stdout",
     "output_type": "stream",
     "text": [
      "(array([[1., 1., 1., 1., 1., 1., 1., 1., 1., 1.]]), array([-10.]))\n",
      "(array([[1., 1., 1., 1., 1., 1., 1., 1., 1., 1.]]), -10.0)\n"
     ]
    }
   ],
   "source": [
    "def get_connected(x, Gamma):\n",
    "    n_spins = x.shape[0]\n",
    "    \n",
    "    # diagonal element\n",
    "    Xp = np.array(x).reshape(1, n_spins) # x\n",
    "    H_x_xp = -1*np.sum(x*np.append(x[1:], x[0])) # Hxx\n",
    "    \n",
    "    # off-diagonal elements\n",
    "    if Gamma!=0:\n",
    "        for i in range(n_spins):\n",
    "            xp = x.copy()\n",
    "            xp[i] = -1*xp[i]\n",
    "            Xp = np.append(Xp, xp.reshape(1, n_spins), axis=0)\n",
    "            H_x_xp = np.append(H_x_xp, Gamma)\n",
    "            \n",
    "    return Xp, H_x_xp\n",
    "\n",
    "n_spins = 10\n",
    "Gamma = 0\n",
    "hi = nk.hilbert.Spin(s=1/2, N=n_spins)\n",
    "H_int = sum([-1*sigmaz(hi,i)*sigmaz(hi,(i+1)%n_spins) for i in range(n_spins)])\n",
    "H_ext = sum([Gamma*sigmax(hi,j) for j in range(n_spins)])\n",
    "H =  H_ext + H_int\n",
    "\n",
    "# Testing\n",
    "\n",
    "trial_state = np.ones(n_spins)**np.random.randint(0,2,(n_spins))\n",
    "print(H.get_conn(trial_state))\n",
    "print(get_connected(trial_state, Gamma)) # The results are the same but Netket's function is faster"
   ]
  },
  {
   "cell_type": "code",
   "execution_count": 4,
   "id": "38708c42",
   "metadata": {
    "execution": {
     "iopub.execute_input": "2023-01-28T05:51:07.344754Z",
     "iopub.status.busy": "2023-01-28T05:51:07.344365Z",
     "iopub.status.idle": "2023-01-28T05:51:07.377748Z",
     "shell.execute_reply": "2023-01-28T05:51:07.376562Z"
    },
    "papermill": {
     "duration": 0.042504,
     "end_time": "2023-01-28T05:51:07.380092",
     "exception": false,
     "start_time": "2023-01-28T05:51:07.337588",
     "status": "completed"
    },
    "tags": []
   },
   "outputs": [],
   "source": [
    "#@njit\n",
    "def initialize_params(n_spins, n_hidden):\n",
    "    \"\"\"Randomly intializes the weights and biases with a normal distribution\n",
    "\n",
    "    Args:\n",
    "        n_spins  (int): Number of spins in the chain  \n",
    "        n_hidden (int): Number of hidden units in the first layer\n",
    "\n",
    "    Returns:\n",
    "        (W1, b1, W2, b2): Weights and biases shapes --> LAYER1: (n_hidden, n_spins), (n_hidden, )\n",
    "                                                        LAYER2: (2, n_hidden), (2,)\n",
    "    \"\"\"\n",
    "    W1 = np.random.randn(n_hidden, n_spins)*0.5\n",
    "    b1 = np.random.randn(n_hidden)*0.5\n",
    "    W2 = np.random.randn(2, n_hidden)*0.5\n",
    "    b2 = np.random.randn(2)*0.5\n",
    "    return W1, b1, W2, b2\n",
    "\n",
    "@njit\n",
    "def forward(X, params):\n",
    "    '''\n",
    "    Args:\n",
    "        X      (array): Samples (n_samples, n_spins)\n",
    "        params (tuple): Weights and biases\n",
    "\n",
    "    Returns:\n",
    "        U1     (array): Output of the first layer shape (n_samples, n_hidden)\n",
    "        U2     (array): Output of the first layer shape (n_samples, 2)\n",
    "        logpsi (array): Natural logarithm of the wavefunction (n_samples, 1)\n",
    "    '''\n",
    "    W1, b1, W2, b2 = params\n",
    "    U1 = X.astype(np.float64) @ W1.T + b1\n",
    "    U1 = np.tanh(U1)\n",
    "    U2 = U1 @ W2.T + b2 # W\n",
    "    logpsi = U2[:,0] + 1j*U2[:,1]\n",
    "    return U1, U2, logpsi\n",
    "\n",
    "@njit\n",
    "def one_sample(state, params, forward):\n",
    "    '''Returns one sample following a Metropolis algorithm\n",
    "    Args:\n",
    "        state      (array): A state in the chain of shape (1, n_spins)\n",
    "        params     (tuple): Weights and biases to be used in the forward step (W1, b1, W2, b2)\n",
    "        forward (callable): Function to compute the probability amplitudes\n",
    "\n",
    "    Returns:\n",
    "        state      (array): Final state after n_spins steps in the chain\n",
    "    '''\n",
    "    n_spins = state.shape[1]\n",
    "    r_state = forward(state, params)[1][0, 0] # u2[0,0] #first sample, real part\n",
    "    \n",
    "    for i in range(n_spins):\n",
    "        index = np.random.randint(n_spins) # Select a random site\n",
    "        state_new = state.copy()\n",
    "        state_new[0, index] = -1*state_new[0, index] # Flip the state\n",
    "        r_state_new = forward(state_new, params)[1][0, 0]\n",
    "        acc_prob = np.exp(r_state_new-r_state)**2\n",
    "        if np.random.rand() < acc_prob:\n",
    "            state = state_new.copy()\n",
    "            r_state = r_state_new\n",
    "    return state\n",
    "\n",
    "def sample(n_spins, n_samples, params, forward):\n",
    "    '''\n",
    "    Args:\n",
    "        n_spins   (int)\n",
    "        n_samples (int)\n",
    "        params    (tuple)\n",
    "        forward   (function)\n",
    "\n",
    "    Returns:\n",
    "        array: Samples of shape (n_samples, n_spins)\n",
    "    '''\n",
    "    # First, we get an initial_state (thermalized)\n",
    "    state = 2*(np.random.random(n_spins)>0.5) - 1 #intial state\n",
    "    state = state.reshape((1, n_spins))\n",
    "    for j in range(3*n_spins):\n",
    "        state = one_sample(state, params, forward)\n",
    "\n",
    "    # Then, we get the n_samples samples\n",
    "    samples = np.zeros((n_samples, n_spins))\n",
    "    for j in range(n_samples):\n",
    "        state = one_sample(state, params, forward)\n",
    "        samples[j] = state.copy()\n",
    "        \n",
    "    return samples\n",
    "\n",
    "def local_energy(samples, hamiltonian, forward_pass, params, forward):\n",
    "    '''\n",
    "    Args:\n",
    "        samples             (array)\n",
    "        hamiltonian (LocalOperator): Netket object to get the connected elements of the samples\n",
    "        forward_pass        (array): Output of forward pass for all the samples\n",
    "        params              (tuple)\n",
    "        forward          (function)\n",
    "\n",
    "    Returns:\n",
    "        array: Local energy operator at each of the samples. Shape (n_samples)\n",
    "    '''\n",
    "    n_samples = samples.shape[0]\n",
    "    eloc = 1j*np.zeros(n_samples)\n",
    "    _, _, logpsi = forward_pass\n",
    "    \n",
    "    for i in range(n_samples):\n",
    "        xp, H_x_xp = hamiltonian.get_conn(samples[i])\n",
    "        _,_, logpsi_xp = forward(xp, params)\n",
    "        eloc[i] = np.sum(H_x_xp * np.exp(logpsi_xp-logpsi[i]))\n",
    "        \n",
    "    return eloc\n",
    "\n",
    "def dlogpsi_dW(samples, forward_pass, params, forward): # Returns shape like (n_samples, W1.shape)\n",
    "    '''\n",
    "    Calculates the derivative of the wavefunction for each of the samples w.r.t the parameters\n",
    "    \n",
    "    Returns:\n",
    "        dW1 (array): Shape (n_samples, n_hidden, n_spins)\n",
    "        db1 (array): Shape (n_samples, n_hidden,)\n",
    "        dW2 (array): Shape (n_samples, 2, n_hidden)\n",
    "        db2 (array): Shape (n_samples, 2,)\n",
    "    '''\n",
    "    # Retrieve logpsi and params\n",
    "    U1, U2, logpsi = forward_pass\n",
    "    W1, b1, W2, b2 = params\n",
    "    \n",
    "    n_hidden = W2.shape[1]\n",
    "    n_samples = samples.shape[0]\n",
    "    \n",
    "    # Backprop\n",
    "    dW2 = np.stack((U1, 1.0j*U1), axis=1) #Shape (n_samples, 2, n_hidden)\n",
    "    db2 = np.stack((np.ones(n_samples), 1j*np.ones(n_samples)), axis=1) # (n_samples, 2)\n",
    "    dAct = 1 - np.tanh(U1)**2 #(n_samples, n_hidden)\n",
    "    dW1 = (W2[0,:].T*dAct + 1j*W2[1,:].T*dAct).reshape((n_samples, n_hidden, 1))\\\n",
    "            * samples.reshape((n_samples,1,n_spins)).astype(np.float64) # (n_samples, n_hidden, n_spins) :)\n",
    "    db1 = W2[0,:].T*dAct + 1j*W2[1,:].T*dAct # (n_samples, n_hidden)\n",
    "    \n",
    "    return dW1, db1, dW2, db2    \n",
    "    \n",
    "def get_grads(eloc, dParams):\n",
    "    ''' Get the gradients of the energy <H> w.r.t the parameters\n",
    "    Args:\n",
    "        eloc    (array): Local energy of each of the samples\n",
    "        dParams (tuple): Derivative of the wavefunction for each of the samples w.r.t the parameters\n",
    "\n",
    "    Returns:\n",
    "        E0    (float): Expected value of the hamiltonian with a given set of wavefunction parameters\n",
    "        grads (array): Gradients of <H> w.r.t to each layer weights\n",
    "    '''\n",
    "    dW1, db1, dW2, db2 = dParams\n",
    "    E0 = np.mean(np.real(eloc)) # Local energy (scalar)\n",
    "    n_samples = dW1.shape[0]\n",
    "    grad_W1 = np.real(2*np.mean((eloc.reshape(n_samples, 1, 1) - E0)* np.conj(dW1), axis=0))\n",
    "    grad_b1 = np.real(2*np.mean((eloc.reshape(n_samples, 1)    - E0)* np.conj(db1), axis=0))\n",
    "    grad_W2 = np.real(2*np.mean((eloc.reshape(n_samples, 1, 1) - E0)* np.conj(dW2), axis=0))\n",
    "    grad_b2 = np.real(2*np.mean((eloc.reshape(n_samples, 1)    - E0)* np.conj(db2), axis=0))\n",
    "    grads = np.array([grad_W1, grad_b1, grad_W2, grad_b2], dtype=object)\n",
    "    \n",
    "    return E0, grads\n",
    "    \n",
    "def update_params(params, gradients, learning_rate, V, beta=0.2):\n",
    "    V = -learning_rate*gradients + beta*V # Using momentum\n",
    "    for param, v in zip(params, V):\n",
    "        param += v\n",
    "    return params, V\n",
    "        \n",
    "def FFNN_train(hamiltonian, n_samples, n_hidden, learning_rate, epochs):\n",
    "    n_spins = hamiltonian.hilbert.size\n",
    "    params = initialize_params(n_spins, n_hidden)\n",
    "    epochs_range = tqdm(range(epochs))\n",
    "    V = 0\n",
    "    energy_history = []\n",
    "    energy_avg = np.zeros(10,)\n",
    "    for i in epochs_range:\n",
    "        samples = sample(n_spins, n_samples, params, forward)\n",
    "        forward_pass = forward(samples, params)\n",
    "        dParams = dlogpsi_dW(samples, forward_pass, params, forward)\n",
    "        eloc = local_energy(samples, hamiltonian, forward_pass, params, forward)\n",
    "        energy, gradients = get_grads(eloc, dParams)\n",
    "        params, V = update_params(params, gradients, learning_rate, V)    \n",
    "        energy_history.append(energy)\n",
    "        energy_avg = np.append(energy_avg[1:], energy)\n",
    "        if i>9:\n",
    "            epochs_range.set_postfix(Energy=f'{np.mean(energy_avg):.4f} +/- {np.std(energy_avg):.4f}')\n",
    "    return np.mean(energy_avg), energy_history, params"
   ]
  },
  {
   "cell_type": "code",
   "execution_count": 5,
   "id": "8d18357f",
   "metadata": {
    "execution": {
     "iopub.execute_input": "2023-01-28T05:51:07.391964Z",
     "iopub.status.busy": "2023-01-28T05:51:07.391174Z",
     "iopub.status.idle": "2023-01-28T06:12:18.586787Z",
     "shell.execute_reply": "2023-01-28T06:12:18.585857Z"
    },
    "papermill": {
     "duration": 1271.204848,
     "end_time": "2023-01-28T06:12:18.589906",
     "exception": false,
     "start_time": "2023-01-28T05:51:07.385058",
     "status": "completed"
    },
    "tags": []
   },
   "outputs": [
    {
     "name": "stderr",
     "output_type": "stream",
     "text": [
      "100%|██████████| 1000/1000 [01:44<00:00,  9.54it/s, Energy=-10.6208 +/- 0.0052]\n",
      "100%|██████████| 1000/1000 [01:43<00:00,  9.69it/s, Energy=-11.7216 +/- 0.0136]\n",
      "100%|██████████| 1000/1000 [01:44<00:00,  9.60it/s, Energy=-13.4812 +/- 0.0245]\n",
      "100%|██████████| 1000/1000 [01:45<00:00,  9.48it/s, Energy=-16.2965 +/- 0.0291]\n",
      "100%|██████████| 1000/1000 [01:46<00:00,  9.36it/s, Energy=-19.1682 +/- 0.0098]\n",
      "100%|██████████| 1000/1000 [01:46<00:00,  9.39it/s, Energy=-22.0841 +/- 0.0229]\n",
      "100%|██████████| 1000/1000 [01:45<00:00,  9.44it/s, Energy=-25.1176 +/- 0.0244]\n",
      "100%|██████████| 1000/1000 [01:45<00:00,  9.44it/s, Energy=-28.1755 +/- 0.0150]\n",
      "100%|██████████| 1000/1000 [01:46<00:00,  9.40it/s, Energy=-31.2711 +/- 0.0102]\n",
      "100%|██████████| 1000/1000 [01:47<00:00,  9.34it/s, Energy=-34.3518 +/- 0.0309]\n",
      "100%|██████████| 1000/1000 [01:47<00:00,  9.29it/s, Energy=-37.4692 +/- 0.0291]\n",
      "100%|██████████| 1000/1000 [01:46<00:00,  9.35it/s, Energy=-40.6269 +/- 0.0103]\n"
     ]
    }
   ],
   "source": [
    "n_spins = 10\n",
    "n_samples = 800\n",
    "n_hidden = 3*n_spins\n",
    "learning_rate = 0.08\n",
    "epochs = 1000\n",
    "hi = nk.hilbert.Spin(s=1/2, N=n_spins)\n",
    "\n",
    "Energies_gs_NQS = np.zeros(n_Gamma)\n",
    "for i, Gamma in enumerate(Gamma_vals):\n",
    "    H = get_hamiltonian(V, Gamma, hi)\n",
    "    Energies_gs_NQS[i],_, _ = FFNN_train(H, n_samples, n_hidden, learning_rate, epochs)"
   ]
  },
  {
   "cell_type": "code",
   "execution_count": 6,
   "id": "a0f52c46",
   "metadata": {
    "execution": {
     "iopub.execute_input": "2023-01-28T06:12:21.419328Z",
     "iopub.status.busy": "2023-01-28T06:12:21.418927Z",
     "iopub.status.idle": "2023-01-28T06:12:21.815819Z",
     "shell.execute_reply": "2023-01-28T06:12:21.814568Z"
    },
    "papermill": {
     "duration": 1.821855,
     "end_time": "2023-01-28T06:12:21.818247",
     "exception": false,
     "start_time": "2023-01-28T06:12:19.996392",
     "status": "completed"
    },
    "tags": []
   },
   "outputs": [
    {
     "data": {
      "image/png": "[encoded data removed]",
      "text/plain": [
       "<Figure size 576x432 with 2 Axes>"
      ]
     },
     "metadata": {
      "needs_background": "light"
     },
     "output_type": "display_data"
    }
   ],
   "source": [
    "fig, ax1 = plt.subplots(figsize=(8,6))\n",
    "\n",
    "ax1.plot(Gamma_vals, Energies_gs, 'b*--',label='Exact')\n",
    "ax1.plot(Gamma_vals, Energies_gs_NQS,'ro',label='NQS',fillstyle='none')\n",
    "ax1.set_xlabel(r'$\\Gamma/V$')\n",
    "ax1.set_ylabel('Energy')\n",
    "ax1.legend(loc='upper left')\n",
    "\n",
    "left, bottom, width, height = [0.6, 0.2, 0.25, 0.25]\n",
    "ax2 = fig.add_axes([left, bottom, width, height])\n",
    "ax2.plot(Gamma_vals, np.abs(Energies_gs_NQS - Energies_gs)/np.abs(Energies_gs), 'go',fillstyle='none')\n",
    "ax2.set_ylabel(r'$\\epsilon_{rel}$')\n",
    "ax2.set_yscale('log')\n",
    "\n",
    "plt.show()"
   ]
  },
  {
   "cell_type": "markdown",
   "id": "bb7eda15",
   "metadata": {
    "papermill": {
     "duration": 1.41492,
     "end_time": "2023-01-28T06:12:24.648659",
     "exception": false,
     "start_time": "2023-01-28T06:12:23.233739",
     "status": "completed"
    },
    "tags": []
   },
   "source": [
    "## 2.2 Netket<a class=\"anchor\" id=\"netket\"></a>"
   ]
  },
  {
   "cell_type": "markdown",
   "id": "9cdb15aa",
   "metadata": {
    "papermill": {
     "duration": 1.438608,
     "end_time": "2023-01-28T06:12:27.496101",
     "exception": false,
     "start_time": "2023-01-28T06:12:26.057493",
     "status": "completed"
    },
    "tags": []
   },
   "source": [
    "For a tutorial on how to use Netket to learn the ground state of the Ising model and other related techniques. https://netket.readthedocs.io/en/latest/tutorials/gs-ising.html"
   ]
  },
  {
   "cell_type": "code",
   "execution_count": 7,
   "id": "88608390",
   "metadata": {
    "execution": {
     "iopub.execute_input": "2023-01-28T06:12:30.349348Z",
     "iopub.status.busy": "2023-01-28T06:12:30.348456Z",
     "iopub.status.idle": "2023-01-28T06:12:30.354342Z",
     "shell.execute_reply": "2023-01-28T06:12:30.353402Z"
    },
    "papermill": {
     "duration": 1.438986,
     "end_time": "2023-01-28T06:12:30.356988",
     "exception": false,
     "start_time": "2023-01-28T06:12:28.918002",
     "status": "completed"
    },
    "tags": []
   },
   "outputs": [],
   "source": [
    "import jax.numpy as jnp\n",
    "import flax.linen as nn"
   ]
  },
  {
   "cell_type": "code",
   "execution_count": 8,
   "id": "f9e3d0f9",
   "metadata": {
    "execution": {
     "iopub.execute_input": "2023-01-28T06:12:33.197686Z",
     "iopub.status.busy": "2023-01-28T06:12:33.196882Z",
     "iopub.status.idle": "2023-01-28T06:13:37.396614Z",
     "shell.execute_reply": "2023-01-28T06:13:37.394919Z"
    },
    "papermill": {
     "duration": 65.629417,
     "end_time": "2023-01-28T06:13:37.399464",
     "exception": false,
     "start_time": "2023-01-28T06:12:31.770047",
     "status": "completed"
    },
    "tags": []
   },
   "outputs": [
    {
     "name": "stderr",
     "output_type": "stream",
     "text": [
      "100%|██████████| 1000/1000 [00:56<00:00, 17.82it/s, Energy=-10.6351-0.0007j ± 0.0014 [σ²=0.0017, R̂=1.0067]]\n"
     ]
    }
   ],
   "source": [
    "class FFN(nn.Module):\n",
    "    alpha : int = 1\n",
    "    @nn.compact\n",
    "    def __call__(self, x):\n",
    "        dense1 = nn.Dense(features=self.alpha * x.shape[-1])\n",
    "        dense2 = nn.Dense(2)\n",
    "        y = dense1(x)\n",
    "        y = nn.tanh(y)\n",
    "        y = dense2(y)\n",
    "        return y[:,0] + 1j*y[:,1]\n",
    "\n",
    "model = FFN(alpha=3)\n",
    "\n",
    "# Define the hamiltonian and the hilbert space\n",
    "hi = nk.hilbert.Spin(s=1/2, N=n_spins)\n",
    "H_int = sum([-1*sigmaz(hi,i)*sigmaz(hi,(i+1)%n_spins) for i in range(n_spins)])\n",
    "H_ext = sum([-0.5*sigmax(hi,j) for j in range(n_spins)])\n",
    "H = H_int + H_ext\n",
    "\n",
    "sampler = nk.sampler.MetropolisLocal(hi)\n",
    "vstate = nk.vqs.MCState(sampler, model, n_samples=512*2)\n",
    "optimizer = nk.optimizer.Momentum(0.08, beta=0.2)\n",
    "gs = nk.driver.VMC(H, optimizer, variational_state=vstate)\n",
    "\n",
    "# using Stochastic Reconfiguration method yields more stable results\n",
    "# gs = nk.driver.VMC(H, optimizer, variational_state=vstate,preconditioner=nk.optimizer.SR(diag_shift=0.1))\n",
    "\n",
    "log=nk.logging.RuntimeLog()\n",
    "gs.run(n_iter=1000,out=log)\n",
    "\n",
    "ffn_energy=vstate.expect(H)"
   ]
  }
 ],
 "metadata": {
  "kernelspec": {
   "display_name": "Python 3",
   "language": "python",
   "name": "python3"
  },
  "language_info": {
   "codemirror_mode": {
    "name": "ipython",
    "version": 3
   },
   "file_extension": ".py",
   "mimetype": "text/x-python",
   "name": "python",
   "nbconvert_exporter": "python",
   "pygments_lexer": "ipython3",
   "version": "3.7.12"
  },
  "papermill": {
   "default_parameters": {},
   "duration": 1395.462653,
   "end_time": "2023-01-28T06:13:41.704871",
   "environment_variables": {},
   "exception": null,
   "input_path": "__notebook__.ipynb",
   "output_path": "__notebook__.ipynb",
   "parameters": {},
   "start_time": "2023-01-28T05:50:26.242218",
   "version": "2.3.4"
  }
 },
 "nbformat": 4,
 "nbformat_minor": 5
}
